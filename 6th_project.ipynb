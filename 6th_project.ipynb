{
 "cells": [
  {
   "cell_type": "code",
   "execution_count": 1,
   "id": "89b2eeb1",
   "metadata": {},
   "outputs": [],
   "source": [
    "import pandas as pd\n",
    "import seaborn as sns\n",
    "import matplotlib.pyplot as plt\n",
    "import numpy as np\n",
    "import plotly.express as px\n",
    "\n",
    "%matplotlib inline"
   ]
  },
  {
   "cell_type": "code",
   "execution_count": 2,
   "id": "831b65ef",
   "metadata": {},
   "outputs": [],
   "source": [
    "# Отгрузил дату\n",
    "\n",
    "ads = pd.read_csv('ads_data.csv')\n",
    "ads_clients = pd.read_csv('ads_clients_data.csv')"
   ]
  },
  {
   "cell_type": "markdown",
   "id": "4d5ecb77",
   "metadata": {},
   "source": [
    "# The first task\n"
   ]
  },
  {
   "cell_type": "code",
   "execution_count": 3,
   "id": "62a5ab17",
   "metadata": {},
   "outputs": [],
   "source": [
    "# Разберусь с  распределением количества показов и кликов. \n",
    "# Посчитаю среднее количество показов и среднее количество кликов \n",
    "# на объявления за весь период."
   ]
  },
  {
   "cell_type": "code",
   "execution_count": 4,
   "id": "4eeff435",
   "metadata": {},
   "outputs": [
    {
     "data": {
      "text/html": [
       "<div>\n",
       "<style scoped>\n",
       "    .dataframe tbody tr th:only-of-type {\n",
       "        vertical-align: middle;\n",
       "    }\n",
       "\n",
       "    .dataframe tbody tr th {\n",
       "        vertical-align: top;\n",
       "    }\n",
       "\n",
       "    .dataframe thead th {\n",
       "        text-align: right;\n",
       "    }\n",
       "</style>\n",
       "<table border=\"1\" class=\"dataframe\">\n",
       "  <thead>\n",
       "    <tr style=\"text-align: right;\">\n",
       "      <th></th>\n",
       "      <th>date</th>\n",
       "      <th>time</th>\n",
       "      <th>event</th>\n",
       "      <th>platform</th>\n",
       "      <th>ad_id</th>\n",
       "      <th>client_union_id</th>\n",
       "      <th>campaign_union_id</th>\n",
       "      <th>ad_cost_type</th>\n",
       "      <th>ad_cost</th>\n",
       "      <th>has_video</th>\n",
       "      <th>target_audience_count</th>\n",
       "    </tr>\n",
       "  </thead>\n",
       "  <tbody>\n",
       "    <tr>\n",
       "      <th>0</th>\n",
       "      <td>2019-04-01</td>\n",
       "      <td>2019-04-01 00:00:48</td>\n",
       "      <td>view</td>\n",
       "      <td>android</td>\n",
       "      <td>45061</td>\n",
       "      <td>34734</td>\n",
       "      <td>45061</td>\n",
       "      <td>CPM</td>\n",
       "      <td>200.6</td>\n",
       "      <td>0</td>\n",
       "      <td>1955269</td>\n",
       "    </tr>\n",
       "    <tr>\n",
       "      <th>1</th>\n",
       "      <td>2019-04-01</td>\n",
       "      <td>2019-04-01 00:00:48</td>\n",
       "      <td>view</td>\n",
       "      <td>web</td>\n",
       "      <td>121288</td>\n",
       "      <td>121288</td>\n",
       "      <td>121288</td>\n",
       "      <td>CPM</td>\n",
       "      <td>187.4</td>\n",
       "      <td>0</td>\n",
       "      <td>232011</td>\n",
       "    </tr>\n",
       "  </tbody>\n",
       "</table>\n",
       "</div>"
      ],
      "text/plain": [
       "         date                 time event platform   ad_id  client_union_id  \\\n",
       "0  2019-04-01  2019-04-01 00:00:48  view  android   45061            34734   \n",
       "1  2019-04-01  2019-04-01 00:00:48  view      web  121288           121288   \n",
       "\n",
       "   campaign_union_id ad_cost_type  ad_cost  has_video  target_audience_count  \n",
       "0              45061          CPM    200.6          0                1955269  \n",
       "1             121288          CPM    187.4          0                 232011  "
      ]
     },
     "execution_count": 4,
     "metadata": {},
     "output_type": "execute_result"
    }
   ],
   "source": [
    "ads.head(2)"
   ]
  },
  {
   "cell_type": "code",
   "execution_count": 5,
   "id": "dbde785b",
   "metadata": {},
   "outputs": [],
   "source": [
    "pivot_per_ad_events = number_per_ad_per_event = ads.groupby(['ad_id', 'event'], as_index=False) \\\n",
    "    .agg({'time': 'count'}) \\\n",
    "    .rename(columns={'time': 'event_number'})\n",
    "# Предобработали данные"
   ]
  },
  {
   "cell_type": "code",
   "execution_count": 6,
   "id": "88ea3613",
   "metadata": {},
   "outputs": [],
   "source": [
    "pivot_per_ad_events = number_per_ad_per_event.pivot(index='ad_id', columns='event', values='event_number').fillna(0)\n",
    "# Создали сводную таблицу, для удобства работы, пустые значения заполнили нулями."
   ]
  },
  {
   "cell_type": "code",
   "execution_count": 7,
   "id": "2b8d9f28",
   "metadata": {},
   "outputs": [
    {
     "data": {
      "text/plain": [
       "event\n",
       "click    113.0\n",
       "view     923.0\n",
       "dtype: float64"
      ]
     },
     "execution_count": 7,
     "metadata": {},
     "output_type": "execute_result"
    }
   ],
   "source": [
    "pivot_per_ad_events.mean().round() # Cреднее количество показов и среднее количество кликов."
   ]
  },
  {
   "cell_type": "markdown",
   "id": "1a0f6794",
   "metadata": {},
   "source": [
    "# The second task"
   ]
  },
  {
   "cell_type": "code",
   "execution_count": 9,
   "id": "80021620",
   "metadata": {},
   "outputs": [],
   "source": [
    "# Теперь я хочу посчитать скользящее среднее показов с окном 2.\n",
    "\n",
    "# Далее узнаю значение скользящего среднего за 6 апреля 2019 года.\n",
    "\n",
    "# Здесь необходимо 2 раза рассчитать среднее\n",
    "# Первое среднее считается по числу показанных реклам для каждого дня, \n",
    "# а 2-ое с применением rolling."
   ]
  },
  {
   "cell_type": "code",
   "execution_count": 11,
   "id": "e04596f8",
   "metadata": {},
   "outputs": [],
   "source": [
    "ads_view_per_date = ads.query('event == \"view\"') \\\n",
    "    .pivot_table(index='ad_id', columns='date', values='time', aggfunc='count')\n",
    "\n",
    "# Отсортировали столбец \"event\" по view.\n",
    "# Создали сводную таблицу, чтобы было легче работать с данными."
   ]
  },
  {
   "cell_type": "code",
   "execution_count": 12,
   "id": "98cb9fb5",
   "metadata": {},
   "outputs": [],
   "source": [
    "mean_views = ads_view_per_date.mean() # Посчитали среднее по просмотрам."
   ]
  },
  {
   "cell_type": "code",
   "execution_count": 13,
   "id": "30b43ab0",
   "metadata": {},
   "outputs": [],
   "source": [
    "rolling_views = mean_views.rolling(2).mean() # Посчитали среднее по просмотром, с rolling(2)."
   ]
  },
  {
   "cell_type": "code",
   "execution_count": 14,
   "id": "ee54c89f",
   "metadata": {},
   "outputs": [
    {
     "data": {
      "text/plain": [
       "598.1162023460411"
      ]
     },
     "execution_count": 14,
     "metadata": {},
     "output_type": "execute_result"
    }
   ],
   "source": [
    "rolling_views['2019-04-06'] # Среднее значение за 6 апреля 2019 года "
   ]
  },
  {
   "cell_type": "markdown",
   "id": "3297ef0b",
   "metadata": {},
   "source": [
    "# The third task"
   ]
  },
  {
   "cell_type": "code",
   "execution_count": 15,
   "id": "b040daa4",
   "metadata": {},
   "outputs": [],
   "source": [
    "# Скользящее среднее часто используется для поиска аномалий в данных.\n",
    "# Попробую нанести на один график значения арифметического \n",
    "# среднего по дням и скользящего среднего количества показов. В какой \n",
    "# день наблюдается наибольшая разница по модулю между арифметическим \n",
    "# средним и скользящим средним? Дни, в которых скользящее среднее равно \n",
    "# NaN, учитывать не буду. "
   ]
  },
  {
   "cell_type": "code",
   "execution_count": 16,
   "id": "1d281e35",
   "metadata": {},
   "outputs": [],
   "source": [
    "sns.set(\n",
    "    font_scale=2,\n",
    "    style='whitegrid',\n",
    "    rc = {'figure.figsize': (20, 7)}\n",
    ")\n",
    "# Делаю график более понятным."
   ]
  },
  {
   "cell_type": "code",
   "execution_count": 17,
   "id": "5eaf1cf0",
   "metadata": {},
   "outputs": [
    {
     "data": {
      "text/plain": [
       "<Axes: xlabel='date'>"
      ]
     },
     "execution_count": 17,
     "metadata": {},
     "output_type": "execute_result"
    },
    {
     "data": {
      "image/png": "[encoded data removed]",
      "text/plain": [
       "<Figure size 2000x700 with 1 Axes>"
      ]
     },
     "metadata": {},
     "output_type": "display_data"
    }
   ],
   "source": [
    "sns.lineplot(data=mean_views)\n",
    "sns.lineplot(data=rolling_views)"
   ]
  },
  {
   "cell_type": "code",
   "execution_count": 18,
   "id": "23bc8929",
   "metadata": {},
   "outputs": [],
   "source": [
    "# Нашел индекс анамальной даты\n",
    "anomaly_date = mean_views.subtract(rolling_views) \\\n",
    "          .abs() \\\n",
    "          .idxmax() "
   ]
  },
  {
   "cell_type": "markdown",
   "id": "6107c59c",
   "metadata": {},
   "source": [
    "# The fourth task"
   ]
  },
  {
   "cell_type": "code",
   "execution_count": 19,
   "id": "891e5b43",
   "metadata": {},
   "outputs": [],
   "source": [
    "# Напишу функцию, которая найдет проблемное объявление \n",
    "# с наибольшим/наименишим количеством показов в день, \n",
    "# в который была замечена самая большая по модулю аномалия. "
   ]
  },
  {
   "cell_type": "code",
   "execution_count": 20,
   "id": "ec3ceeea",
   "metadata": {},
   "outputs": [],
   "source": [
    "# Берем разницу между средним и скользящем скредним.\n",
    "difference_value = mean_views.subtract(rolling_views)[anomaly_date]\n",
    "\n",
    "# Если число отрицательное или ноль, то берем индекс максимального числа\n",
    "if difference_value <= 0:\n",
    "    anomaly_ad = ads_view_per_date[anomaly_date].idxmax()\n",
    "\n",
    "# Иначе берем индекс минимального числа\n",
    "else:\n",
    "    anomaly_ad = ads_view_per_date[anomaly_date].idxmin()\n",
    "\n",
    "    \n",
    "    "
   ]
  },
  {
   "cell_type": "code",
   "execution_count": 21,
   "id": "ba712fc2",
   "metadata": {},
   "outputs": [
    {
     "data": {
      "text/plain": [
       "112583"
      ]
     },
     "execution_count": 21,
     "metadata": {},
     "output_type": "execute_result"
    }
   ],
   "source": [
    "anomaly_ad"
   ]
  },
  {
   "cell_type": "code",
   "execution_count": 22,
   "id": "2f85269d",
   "metadata": {},
   "outputs": [
    {
     "data": {
      "text/html": [
       "<div>\n",
       "<style scoped>\n",
       "    .dataframe tbody tr th:only-of-type {\n",
       "        vertical-align: middle;\n",
       "    }\n",
       "\n",
       "    .dataframe tbody tr th {\n",
       "        vertical-align: top;\n",
       "    }\n",
       "\n",
       "    .dataframe thead th {\n",
       "        text-align: right;\n",
       "    }\n",
       "</style>\n",
       "<table border=\"1\" class=\"dataframe\">\n",
       "  <thead>\n",
       "    <tr style=\"text-align: right;\">\n",
       "      <th>date</th>\n",
       "      <th>2019-04-01</th>\n",
       "      <th>2019-04-02</th>\n",
       "      <th>2019-04-03</th>\n",
       "      <th>2019-04-04</th>\n",
       "      <th>2019-04-05</th>\n",
       "      <th>2019-04-06</th>\n",
       "    </tr>\n",
       "    <tr>\n",
       "      <th>ad_id</th>\n",
       "      <th></th>\n",
       "      <th></th>\n",
       "      <th></th>\n",
       "      <th></th>\n",
       "      <th></th>\n",
       "      <th></th>\n",
       "    </tr>\n",
       "  </thead>\n",
       "  <tbody>\n",
       "    <tr>\n",
       "      <th>112583</th>\n",
       "      <td>NaN</td>\n",
       "      <td>NaN</td>\n",
       "      <td>NaN</td>\n",
       "      <td>NaN</td>\n",
       "      <td>302811.0</td>\n",
       "      <td>48991.0</td>\n",
       "    </tr>\n",
       "  </tbody>\n",
       "</table>\n",
       "</div>"
      ],
      "text/plain": [
       "date    2019-04-01  2019-04-02  2019-04-03  2019-04-04  2019-04-05  2019-04-06\n",
       "ad_id                                                                         \n",
       "112583         NaN         NaN         NaN         NaN    302811.0     48991.0"
      ]
     },
     "execution_count": 22,
     "metadata": {},
     "output_type": "execute_result"
    }
   ],
   "source": [
    "# Нашел максимум по колонке\n",
    "ads_view_per_date.loc[[112583]]"
   ]
  },
  {
   "cell_type": "code",
   "execution_count": 23,
   "id": "7b1deaea",
   "metadata": {},
   "outputs": [],
   "source": [
    "def find_anomaly_date(ad_view_per_day_per_add):\n",
    "    # Для каждой даты считаем среднее\n",
    "    mean_views = ad_view_per_day_per_add.mean()\n",
    "    \n",
    "    # Ищем аномальный день\n",
    "    mean_difference = mean_views.subtract(rolling_views)\n",
    "    anomaly_date = mean_views.subtract(rolling_views) \\\n",
    "          .abs() \\\n",
    "          .idxmax() \\\n",
    "    \n",
    "    # Берем разницу между средним и скользящем скредним.\n",
    "    difference_value = mean_difference[anomaly_date]\n",
    "\n",
    "    # Если число отрицательное или ноль, то берем индекс максимального числа\n",
    "    if difference_value <= 0:\n",
    "        anomaly_ad = ad_view_per_day_per_add[anomaly_date].idxmax()\n",
    "\n",
    "    # Иначе берем индекс минимального числа\n",
    "    else:\n",
    "        anomaly_ad = ad_view_per_day_per_add[anomaly_date].idxmin()\n",
    "        \n",
    "    return anomaly_ad"
   ]
  },
  {
   "cell_type": "code",
   "execution_count": null,
   "id": "c509d853",
   "metadata": {},
   "outputs": [],
   "source": []
  },
  {
   "cell_type": "code",
   "execution_count": null,
   "id": "49ff1240",
   "metadata": {},
   "outputs": [],
   "source": []
  },
  {
   "cell_type": "code",
   "execution_count": null,
   "id": "882c15c8",
   "metadata": {},
   "outputs": [],
   "source": []
  },
  {
   "cell_type": "code",
   "execution_count": null,
   "id": "cc21f787",
   "metadata": {},
   "outputs": [],
   "source": []
  }
 ],
 "metadata": {
  "kernelspec": {
   "display_name": "Python 3 (ipykernel)",
   "language": "python",
   "name": "python3"
  },
  "language_info": {
   "codemirror_mode": {
    "name": "ipython",
    "version": 3
   },
   "file_extension": ".py",
   "mimetype": "text/x-python",
   "name": "python",
   "nbconvert_exporter": "python",
   "pygments_lexer": "ipython3",
   "version": "3.11.3"
  }
 },
 "nbformat": 4,
 "nbformat_minor": 5
}
